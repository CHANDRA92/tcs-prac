{
 "cells": [
  {
   "cell_type": "markdown",
   "metadata": {},
   "source": [
    "Lambda Function "
   ]
  },
  {
   "cell_type": "code",
   "execution_count": 4,
   "metadata": {},
   "outputs": [
    {
     "data": {
      "text/plain": [
       "7"
      ]
     },
     "execution_count": 4,
     "metadata": {},
     "output_type": "execute_result"
    }
   ],
   "source": [
    "f =  lambda a,b:a+b\n",
    "f(3,4)"
   ]
  },
  {
   "cell_type": "code",
   "execution_count": 2,
   "metadata": {},
   "outputs": [
    {
     "data": {
      "text/plain": [
       "120"
      ]
     },
     "execution_count": 2,
     "metadata": {},
     "output_type": "execute_result"
    }
   ],
   "source": [
    "factorial = lambda n: 1 if n == 0 else n * factorial(n - 1)\n",
    "factorial(5)"
   ]
  },
  {
   "cell_type": "code",
   "execution_count": 1,
   "metadata": {},
   "outputs": [],
   "source": [
    "# factorial using for loop\n",
    "def factorial(n):\n",
    "    result = 1\n",
    "    for i in range(1, n+1):\n",
    "        result *= i\n",
    "    return result"
   ]
  },
  {
   "cell_type": "markdown",
   "metadata": {},
   "source": [
    "range vs Xrange"
   ]
  },
  {
   "cell_type": "code",
   "execution_count": 3,
   "metadata": {},
   "outputs": [
    {
     "data": {
      "text/plain": [
       "range(1, 10)"
      ]
     },
     "execution_count": 3,
     "metadata": {},
     "output_type": "execute_result"
    }
   ],
   "source": [
    "x = range(1,10,1)\n",
    "x"
   ]
  },
  {
   "cell_type": "markdown",
   "metadata": {},
   "source": [
    "Linear Search"
   ]
  },
  {
   "cell_type": "code",
   "execution_count": 9,
   "metadata": {},
   "outputs": [
    {
     "data": {
      "text/plain": [
       "2"
      ]
     },
     "execution_count": 9,
     "metadata": {},
     "output_type": "execute_result"
    }
   ],
   "source": [
    "def linearSearch(arr,n):\n",
    "    for i in arr:\n",
    "        if i == n:\n",
    "            return arr[i]\n",
    "    return False\n",
    "linearSearch([1,3,10,2,20,21,14],3)"
   ]
  },
  {
   "cell_type": "markdown",
   "metadata": {},
   "source": [
    "Binary Search"
   ]
  },
  {
   "cell_type": "code",
   "execution_count": 23,
   "metadata": {},
   "outputs": [
    {
     "data": {
      "text/plain": [
       "True"
      ]
     },
     "execution_count": 23,
     "metadata": {},
     "output_type": "execute_result"
    }
   ],
   "source": [
    "def binarySearch(arr,find):\n",
    "    left, right = 0 ,len(arr)-1\n",
    "    while(left<=right):\n",
    "        mid = left + right // 2\n",
    "        if arr[mid] == find:\n",
    "            return True\n",
    "        elif arr[mid] < find :\n",
    "            left = mid+1\n",
    "        else:\n",
    "            right = mid-1\n",
    "    return  False\n",
    "\n",
    "binarySearch([2,3,4],3)"
   ]
  },
  {
   "cell_type": "markdown",
   "metadata": {},
   "source": [
    "Recursive Binary Search"
   ]
  },
  {
   "cell_type": "code",
   "execution_count": 2,
   "metadata": {},
   "outputs": [
    {
     "data": {
      "text/plain": [
       "False"
      ]
     },
     "execution_count": 2,
     "metadata": {},
     "output_type": "execute_result"
    }
   ],
   "source": [
    "def binarySearchRecursive(arr,search, left =0, right=None):\n",
    "    if right == None:\n",
    "        right = len(arr) -1\n",
    "    mid = left + (right - left) // 2\n",
    "    if left > right:\n",
    "        return False\n",
    "    if arr[mid] == search :\n",
    "        return True\n",
    "    elif arr[mid] < search :\n",
    "        return binarySearchRecursive(arr,search,mid+1,right)\n",
    "    else :\n",
    "        return binarySearchRecursive(arr,search, left, mid-1)\n",
    "    \n",
    "binarySearchRecursive([2,3,4],0)"
   ]
  },
  {
   "cell_type": "markdown",
   "metadata": {},
   "source": [
    "Bubble Sorting"
   ]
  },
  {
   "cell_type": "code",
   "execution_count": 4,
   "metadata": {},
   "outputs": [
    {
     "data": {
      "text/plain": [
       "[0, 0.5, 1, 2, 4, 5, 90]"
      ]
     },
     "execution_count": 4,
     "metadata": {},
     "output_type": "execute_result"
    }
   ],
   "source": [
    "def bubble (arr):\n",
    "    for i in range(len(arr)-1):\n",
    "        for j in range(len(arr)-i-1):\n",
    "            if arr[j] > arr[j+1]:\n",
    "                arr[j],arr[j+1] = arr[j+1], arr[j]\n",
    "    return arr\n",
    "\n",
    "bubble([0,90,2,1,5,4,0.5])\n"
   ]
  },
  {
   "cell_type": "markdown",
   "metadata": {},
   "source": [
    "Selction Sort"
   ]
  },
  {
   "cell_type": "code",
   "execution_count": 7,
   "metadata": {},
   "outputs": [
    {
     "data": {
      "text/plain": [
       "[0, 0.5, 1, 2, 4, 5, 90]"
      ]
     },
     "execution_count": 7,
     "metadata": {},
     "output_type": "execute_result"
    }
   ],
   "source": [
    "def SelectionSort(arr):\n",
    "    n = len(arr)\n",
    "    for i in range(n - 1):\n",
    "        minpos = i\n",
    "        for j in range(i + 1, n):\n",
    "            if arr[j] < arr[minpos]:\n",
    "                minpos = j\n",
    "        arr[i], arr[minpos] = arr[minpos], arr[i]\n",
    "    return arr\n",
    "\n",
    "print(SelectionSort([0, 90, 2, 1, 5, 4, 0.5]))\n"
   ]
  },
  {
   "cell_type": "markdown",
   "metadata": {},
   "source": [
    "Insertion Sort\n",
    " O(n^2) in the worst case and O(n) in the best case"
   ]
  },
  {
   "cell_type": "code",
   "execution_count": 8,
   "metadata": {},
   "outputs": [
    {
     "data": {
      "text/plain": [
       "[0, 0.5, 1, 2, 4, 5, 90]"
      ]
     },
     "execution_count": 8,
     "metadata": {},
     "output_type": "execute_result"
    }
   ],
   "source": [
    "def InsertionSort(arr):\n",
    "    for i in range(1,len(arr)):\n",
    "        temp = arr[i]\n",
    "        j = i-1\n",
    "        while j>=0 and temp<arr[j]:\n",
    "            arr[j+1]=arr[j]\n",
    "            j-=1\n",
    "        arr[j+1]=temp\n",
    "    return arr\n",
    "\n",
    "InsertionSort([0,90,2,1,5,4,0.5])\n"
   ]
  },
  {
   "cell_type": "markdown",
   "metadata": {},
   "source": [
    "Quick Sort"
   ]
  },
  {
   "cell_type": "code",
   "execution_count": 7,
   "metadata": {},
   "outputs": [
    {
     "name": "stdout",
     "output_type": "stream",
     "text": [
      "[1, 2, 5, 7, 88, 90]\n"
     ]
    }
   ],
   "source": [
    "def quickSort(lst):\n",
    "    if len(lst) <= 1:\n",
    "        return lst\n",
    "    else:\n",
    "        pivot = lst[0]\n",
    "        lesser = [x for x in lst[1:] if x <= pivot]\n",
    "        greater = [x for x in lst[1:] if x > pivot]\n",
    "        return quickSort(lesser) + [pivot] + quickSort(greater)\n",
    "\n",
    "print(quickSort([1,2,90,88,5,7]))"
   ]
  },
  {
   "cell_type": "markdown",
   "metadata": {},
   "source": [
    "Prime No"
   ]
  },
  {
   "cell_type": "code",
   "execution_count": 20,
   "metadata": {},
   "outputs": [
    {
     "name": "stdout",
     "output_type": "stream",
     "text": [
      "29 is prime: True\n"
     ]
    }
   ],
   "source": [
    "import math\n",
    "\n",
    "def is_prime(n):\n",
    "    if n <= 1:\n",
    "        return False\n",
    "    for i in range(2, int(math.sqrt(n)) + 1):\n",
    "        if n % i == 0:\n",
    "            return False\n",
    "    return True\n",
    "\n",
    "# Example usage:\n",
    "number = 29\n",
    "print(f\"{number} is prime: {is_prime(number)}\")\n"
   ]
  },
  {
   "cell_type": "code",
   "execution_count": 2,
   "metadata": {},
   "outputs": [
    {
     "name": "stdout",
     "output_type": "stream",
     "text": [
      "Prime numbers between 10 and 50: [11, 13, 17, 19, 23, 29, 31, 37, 41, 43, 47]\n"
     ]
    }
   ],
   "source": [
    "import math\n",
    "\n",
    "def is_prime(n):\n",
    "    if n <= 1:\n",
    "        return False\n",
    "    for i in range(2, int(math.sqrt(n)) + 1):\n",
    "        if n % i == 0:\n",
    "            return False\n",
    "    return True\n",
    "\n",
    "def print_primes_in_range(start, end):\n",
    "    primes = []\n",
    "    for num in range(start, end + 1):\n",
    "        if is_prime(num):\n",
    "            primes.append(num)\n",
    "    return primes\n",
    "\n",
    "# Example usage:\n",
    "start = 10\n",
    "end = 50\n",
    "print(f\"Prime numbers between {start} and {end}: {print_primes_in_range(start, end)}\")\n"
   ]
  },
  {
   "cell_type": "code",
   "execution_count": 2,
   "metadata": {},
   "outputs": [
    {
     "data": {
      "text/plain": [
       "321"
      ]
     },
     "execution_count": 2,
     "metadata": {},
     "output_type": "execute_result"
    }
   ],
   "source": [
    "def reverse_num(num):\n",
    "    reverseNum = 0\n",
    "    reminder = 0\n",
    "    while (num > 0):\n",
    "        reminder = num % 10\n",
    "        reverseNum = reverseNum*10+reminder\n",
    "        num = num//10\n",
    "    return reverseNum\n",
    "\n",
    "reverse_num(123)"
   ]
  },
  {
   "cell_type": "code",
   "execution_count": 2,
   "metadata": {},
   "outputs": [
    {
     "name": "stdout",
     "output_type": "stream",
     "text": [
      "5\n"
     ]
    }
   ],
   "source": [
    "def count_consistent_subsequences(N):\n",
    "    MOD = 10**9 + 7\n",
    "    if N == 1:\n",
    "        return 2  # Only two subsequences: '0' and '1'\n",
    "    \n",
    "    dp0 = [0] * (N + 1)\n",
    "    dp1 = [0] * (N + 1)\n",
    "    \n",
    "    dp0[1] = 1\n",
    "    dp1[1] = 1\n",
    "    \n",
    "    for i in range(2, N + 1):\n",
    "        dp0[i] = (dp0[i - 1] + dp1[i - 1]) % MOD\n",
    "        dp1[i] = dp0[i - 1] % MOD\n",
    "    \n",
    "    return (dp0[N] + dp1[N]) % MOD\n",
    "\n",
    "# Example usage:\n",
    "print(count_consistent_subsequences(3))  # Output: 6\n"
   ]
  },
  {
   "cell_type": "code",
   "execution_count": 6,
   "metadata": {},
   "outputs": [
    {
     "name": "stdout",
     "output_type": "stream",
     "text": [
      "8\n"
     ]
    }
   ],
   "source": [
    "def count_consistent_subsequences(N):\n",
    "    MOD = 10**9 + 7\n",
    "    dp0, dp1 = [0]*(N+1), [0]*(N+1)\n",
    "    dp0[0] = dp1[0] = 1\n",
    "\n",
    "    for i in range(1, N+1):\n",
    "        dp0[i] = (dp0[i-1] + dp1[i-1]) % MOD\n",
    "        dp1[i] = dp0[i-1] % MOD\n",
    "\n",
    "    return (dp0[N] + dp1[N]) % MOD\n",
    "\n",
    "print(count_consistent_subsequences(3))  # Output: 6"
   ]
  },
  {
   "cell_type": "code",
   "execution_count": 13,
   "metadata": {},
   "outputs": [
    {
     "data": {
      "text/plain": [
       "[1, 3, 5]"
      ]
     },
     "execution_count": 13,
     "metadata": {},
     "output_type": "execute_result"
    }
   ],
   "source": [
    "def even_no(list):\n",
    "    res =[]\n",
    "    for i in list:\n",
    "        if i%2==1:\n",
    "            res.append(i)\n",
    "    return res\n",
    "even_no([1,2,3,4,5,6]) "
   ]
  },
  {
   "cell_type": "code",
   "execution_count": 34,
   "metadata": {},
   "outputs": [
    {
     "data": {
      "text/plain": [
       "[2, 3, 5]"
      ]
     },
     "execution_count": 34,
     "metadata": {},
     "output_type": "execute_result"
    }
   ],
   "source": [
    "import math\n",
    "\n",
    "def prime_no(n):\n",
    "    if n<=1:\n",
    "        return False\n",
    "    # for i in range(2,int(math.sqrt(n)+1)):\n",
    "    for i in range(2,n):\n",
    "        if n % i ==0:\n",
    "            return False\n",
    "    return True\n",
    "def prime_nol(list):\n",
    "    pr=[]\n",
    "    for i in list:\n",
    "        if prime_no(i):\n",
    "            pr.append(i)\n",
    "    return pr\n",
    "\n",
    "prime_nol([1,2,3,4,5])\n"
   ]
  },
  {
   "cell_type": "code",
   "execution_count": 29,
   "metadata": {},
   "outputs": [
    {
     "data": {
      "text/plain": [
       "[0, 1]"
      ]
     },
     "execution_count": 29,
     "metadata": {},
     "output_type": "execute_result"
    }
   ],
   "source": [
    "def fibo_no(n):\n",
    "    res = []\n",
    "    a=0\n",
    "    b=1\n",
    "    if n<1:\n",
    "        return(\"Please Enter postive value\")\n",
    "    if n==1:\n",
    "        res.append(a)\n",
    "    else:\n",
    "        res.append(a)\n",
    "        res.append(b)\n",
    "        for _ in range(2,n):\n",
    "            a,b = b,a+b\n",
    "            res.append(b)\n",
    "    return res\n",
    "fibo_no(2)"
   ]
  },
  {
   "cell_type": "code",
   "execution_count": 8,
   "metadata": {},
   "outputs": [
    {
     "data": {
      "text/plain": [
       "[1, 2, 4, 5]"
      ]
     },
     "execution_count": 8,
     "metadata": {},
     "output_type": "execute_result"
    }
   ],
   "source": [
    "# bubble sort\n",
    "def bs(list):\n",
    "    for i in range(len(list)-1):\n",
    "        for j in range(len(list)-i-1):\n",
    "            if list[j] > list[j+1]:\n",
    "                list[j],list[j+1]=list[j+1],list[j]\n",
    "    return list\n",
    "\n",
    "bs([2,1,5,4])"
   ]
  },
  {
   "cell_type": "code",
   "execution_count": 34,
   "metadata": {},
   "outputs": [
    {
     "name": "stdout",
     "output_type": "stream",
     "text": [
      "1\n",
      "2\n",
      "3\n",
      "4\n",
      "5\n",
      "6\n",
      "7\n",
      "8\n",
      "9\n",
      "10\n",
      "11\n",
      "12\n",
      "13\n",
      "14\n",
      "15\n",
      "16\n",
      "17\n",
      "18\n",
      "19\n",
      "20\n",
      "21\n",
      "22\n",
      "23\n",
      "24\n",
      "25\n",
      "26\n",
      "27\n",
      "28\n",
      "29\n",
      "30\n",
      "31\n",
      "32\n",
      "33\n",
      "34\n",
      "35\n",
      "36\n",
      "4\n"
     ]
    }
   ],
   "source": [
    "# subarray sum TCS question\n",
    "def q(arr):\n",
    "    count = 0\n",
    "    counts = 0\n",
    "    for i in range(len(arr)):\n",
    "        sum=0\n",
    "        for j in range(i , len(arr)):\n",
    "            counts+=1\n",
    "            print(counts)\n",
    "            sum +=arr[j]\n",
    "            if sum == 7:\n",
    "                count+=1\n",
    "\n",
    "    return count\n",
    "\n",
    "print(q([3, 4, 7, 2, -3, 1, 4, 2]))  # Output should be 4\n"
   ]
  },
  {
   "cell_type": "code",
   "execution_count": 33,
   "metadata": {},
   "outputs": [
    {
     "data": {
      "text/plain": [
       "2"
      ]
     },
     "execution_count": 33,
     "metadata": {},
     "output_type": "execute_result"
    }
   ],
   "source": [
    "def gcd(a,b):\n",
    "    while b:\n",
    "        a,b =b,a%b\n",
    "    return a\n",
    "\n",
    "gcd(2,4)"
   ]
  },
  {
   "cell_type": "code",
   "execution_count": 6,
   "metadata": {},
   "outputs": [
    {
     "data": {
      "text/plain": [
       "60"
      ]
     },
     "execution_count": 6,
     "metadata": {},
     "output_type": "execute_result"
    }
   ],
   "source": [
    "def gcd(a,b):\n",
    "    while b:\n",
    "        a,b = b,a%b\n",
    "    return a\n",
    "\n",
    "def lcm(a,b):\n",
    "    lcm = abs(a*b) // gcd(a,b)\n",
    "    return lcm\n",
    "lcm(12,15)"
   ]
  },
  {
   "cell_type": "code",
   "execution_count": 12,
   "metadata": {},
   "outputs": [
    {
     "data": {
      "text/plain": [
       "True"
      ]
     },
     "execution_count": 12,
     "metadata": {},
     "output_type": "execute_result"
    }
   ],
   "source": [
    "def leapOrNot(y):\n",
    "    if ((y%400==0) or (y%4==0 and y%100!=0)):\n",
    "        return True\n",
    "    return False\n",
    "leapOrNot(2024)"
   ]
  },
  {
   "cell_type": "code",
   "execution_count": 18,
   "metadata": {},
   "outputs": [
    {
     "data": {
      "text/plain": [
       "24"
      ]
     },
     "execution_count": 18,
     "metadata": {},
     "output_type": "execute_result"
    }
   ],
   "source": [
    "#factorial\n",
    "def fact(n):\n",
    "    fact = 1\n",
    "    for i in range(1,n+1):\n",
    "        fact = i*fact\n",
    "    return fact\n",
    "fact(4)"
   ]
  },
  {
   "cell_type": "code",
   "execution_count": 22,
   "metadata": {},
   "outputs": [
    {
     "data": {
      "text/plain": [
       "True"
      ]
     },
     "execution_count": 22,
     "metadata": {},
     "output_type": "execute_result"
    }
   ],
   "source": [
    "def anagram(s1,s2):\n",
    "    # s1 = s1.replace(\" \",\"\").lower()\n",
    "    # s2 = s2.replace(\" \",\"\").lower()\n",
    "    return sorted(s1.replace(\" \",\"\").lower()) == sorted(s2.replace(\" \",\"\").lower())\n",
    "word1 = \"listen\"\n",
    "word2 = \"silent\"\n",
    "anagram(word1,word2)"
   ]
  },
  {
   "cell_type": "code",
   "execution_count": 28,
   "metadata": {},
   "outputs": [
    {
     "name": "stdout",
     "output_type": "stream",
     "text": [
      "i r\n",
      "str r\n",
      "i a\n",
      "str ar\n",
      "i t\n",
      "str tar\n",
      "i e\n",
      "str etar\n"
     ]
    },
    {
     "data": {
      "text/plain": [
       "'etar'"
      ]
     },
     "execution_count": 28,
     "metadata": {},
     "output_type": "execute_result"
    }
   ],
   "source": [
    "#reverse string\n",
    "def revStr(st):\n",
    "    # return st[::-1]\n",
    "    str =''\n",
    "    for i in st:\n",
    "        print(\"i\",i)\n",
    "        str = i + str\n",
    "        print(\"str\",str)\n",
    "    return str\n",
    "revStr('rate')\n",
    "\n"
   ]
  },
  {
   "cell_type": "markdown",
   "metadata": {},
   "source": [
    "Abstraction"
   ]
  },
  {
   "cell_type": "code",
   "execution_count": 8,
   "metadata": {},
   "outputs": [
    {
     "name": "stdout",
     "output_type": "stream",
     "text": [
      "running\n"
     ]
    }
   ],
   "source": [
    "from abc import ABC, abstractmethod\n",
    "class computer(ABC):\n",
    "    @abstractmethod\n",
    "    def running(self):\n",
    "        pass\n",
    "class laptop(computer):\n",
    "    def running(self):\n",
    "        print(\"running\")\n",
    "\n",
    "assus = laptop()\n",
    "assus.running()"
   ]
  },
  {
   "cell_type": "code",
   "execution_count": 5,
   "metadata": {},
   "outputs": [
    {
     "data": {
      "text/plain": [
       "5.0"
      ]
     },
     "execution_count": 5,
     "metadata": {},
     "output_type": "execute_result"
    }
   ],
   "source": [
    "import math\n",
    "a= math.fsum([2,3])\n",
    "a"
   ]
  }
 ],
 "metadata": {
  "kernelspec": {
   "display_name": "Python 3",
   "language": "python",
   "name": "python3"
  },
  "language_info": {
   "codemirror_mode": {
    "name": "ipython",
    "version": 3
   },
   "file_extension": ".py",
   "mimetype": "text/x-python",
   "name": "python",
   "nbconvert_exporter": "python",
   "pygments_lexer": "ipython3",
   "version": "3.12.3"
  }
 },
 "nbformat": 4,
 "nbformat_minor": 2
}
